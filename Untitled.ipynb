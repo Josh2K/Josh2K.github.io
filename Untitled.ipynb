{
 "cells": [
  {
   "cell_type": "code",
   "execution_count": 1,
   "metadata": {
    "collapsed": true
   },
   "outputs": [],
   "source": [
    "import sys\n",
    "import re\n",
    "import os\n",
    "import shutil\n",
    "import commands\n",
    "import csv\n",
    "import csv\n",
    "import time\n",
    "import datetime"
   ]
  },
  {
   "cell_type": "code",
   "execution_count": 3,
   "metadata": {
    "collapsed": false
   },
   "outputs": [
    {
     "name": "stdout",
     "output_type": "stream",
     "text": [
      "{'Mario Born': 'FF9233', 'Marc Devlin': '2A4BD7', 'Sasha Wloski': 'FFEE33', 'Frank Oduro': 'FFCDF3', 'Avalon Powell': '575757', 'Arvind Ramanathan': '29D0D0', 'Josh Felker': '814A19', 'Yibing Wen': '8126C0', 'Mike Sants': '1D6914', 'UNCLAIMED': '000000', 'Eoin Craigie': '88C6ED', 'Patrick Santeusanio': 'AD2323'}\n"
     ]
    }
   ],
   "source": [
    " #populate friend_colour_dict = {}\n",
    "friend_colour_dict = {}\n",
    "friend_colour_file = open('friend_colour.csv')\n",
    "colourreader = csv.DictReader(friend_colour_file)\n",
    "for line in colourreader:\n",
    "    friend_colour_dict[line[\"name\"]] = line[\"colour\"]\n",
    "print friend_colour_dict\n"
   ]
  },
  {
   "cell_type": "code",
   "execution_count": 9,
   "metadata": {
    "collapsed": true
   },
   "outputs": [],
   "source": [
    "segcountoutfile = open('segmentcount.csv', 'w+')\n",
    "segcountoutfile.write('name,count'+'\\n')\n",
    "for x in dict:\n",
    "    segcountoutfile.write(str(x)+','+str(dict[x])+'\\n')\n",
    "segcountoutfile.write('\\n')\n",
    "segcountoutfile.close()\n",
    "\n",
    "\n",
    "    "
   ]
  },
  {
   "cell_type": "code",
   "execution_count": null,
   "metadata": {
    "collapsed": true
   },
   "outputs": [],
   "source": []
  }
 ],
 "metadata": {
  "kernelspec": {
   "display_name": "Python 2",
   "language": "python",
   "name": "python2"
  },
  "language_info": {
   "codemirror_mode": {
    "name": "ipython",
    "version": 2
   },
   "file_extension": ".py",
   "mimetype": "text/x-python",
   "name": "python",
   "nbconvert_exporter": "python",
   "pygments_lexer": "ipython2",
   "version": "2.7.10"
  }
 },
 "nbformat": 4,
 "nbformat_minor": 0
}
