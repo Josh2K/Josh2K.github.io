{
 "cells": [
  {
   "cell_type": "code",
   "execution_count": 6,
   "metadata": {
    "collapsed": true
   },
   "outputs": [],
   "source": [
    "import requests\n",
    "from stravalib.client import Client\n",
    "from collections import defaultdict\n",
    "import csv\n",
    "import time\n",
    "import datetime\n",
    "import pandas as pd"
   ]
  },
  {
   "cell_type": "code",
   "execution_count": 3,
   "metadata": {
    "collapsed": false
   },
   "outputs": [],
   "source": [
    "listofdicts = []\n",
    "client = Client(access_token='76824abf6abf903eb3d8b0bde83625135c0be0ec')\n",
    "athlete = client.get_athlete()\n",
    "josh_friends = client.get_athlete_friends(5991862)\n",
    "for friend in josh_friends:\n",
    "    friend = {'id': friend.id, 'firstname': friend.firstname, 'lastname': friend.lastname}\n",
    "    listofdicts.append(friend)    "
   ]
  },
  {
   "cell_type": "code",
   "execution_count": 4,
   "metadata": {
    "collapsed": false
   },
   "outputs": [
    {
     "data": {
      "text/plain": [
       "[{'firstname': u'Ali', 'id': 1931824, 'lastname': u'Hussain'},\n",
       " {'firstname': u'Yibing', 'id': 6389292, 'lastname': u'Wen'},\n",
       " {'firstname': u'Sasha', 'id': 6394270, 'lastname': u'Wloski'},\n",
       " {'firstname': u'Arvind', 'id': 6145638, 'lastname': u'Ramanathan'},\n",
       " {'firstname': u'Mike', 'id': 8586561, 'lastname': u'Sants'},\n",
       " {'firstname': u'Steve', 'id': 8671749, 'lastname': u'Sulpizio'},\n",
       " {'firstname': u'Marc', 'id': 8669256, 'lastname': u'Devlin'},\n",
       " {'firstname': u'Patrick', 'id': 8694694, 'lastname': u'Santeusanio'},\n",
       " {'firstname': u'Avalon', 'id': 8707893, 'lastname': u'Powell'},\n",
       " {'firstname': u'Mario', 'id': 8678667, 'lastname': u'Born'},\n",
       " {'firstname': u'Mathieu', 'id': 9041359, 'lastname': u'Gagn\\xe9'},\n",
       " {'firstname': u'Frank', 'id': 9035765, 'lastname': u'Oduro'},\n",
       " {'firstname': u'Eoin', 'id': 9690910, 'lastname': u'Craigie'},\n",
       " {'firstname': u'Rene', 'id': 10252784, 'lastname': u'Duquesnoy'},\n",
       " {'firstname': u'Laurie', 'id': 11682046, 'lastname': u'McQueen'},\n",
       " {'firstname': u'Vitor', 'id': 14749152, 'lastname': u'Lima'},\n",
       " {'firstname': u'Leila', 'id': 15015386, 'lastname': u'H'},\n",
       " {'firstname': u'Vincent', 'id': 12032937, 'lastname': u'Trudel-Lapierre'},\n",
       " {'firstname': u'gareth', 'id': 90245, 'lastname': u'reeves'},\n",
       " {'firstname': u'Henry', 'id': 2021048, 'lastname': u'Jenkins'}]"
      ]
     },
     "execution_count": 4,
     "metadata": {},
     "output_type": "execute_result"
    }
   ],
   "source": [
    "listofdicts"
   ]
  },
  {
   "cell_type": "code",
   "execution_count": 9,
   "metadata": {
    "collapsed": false
   },
   "outputs": [],
   "source": [
    "friend_df = pd.DataFrame(listofdicts)"
   ]
  },
  {
   "cell_type": "code",
   "execution_count": 10,
   "metadata": {
    "collapsed": false
   },
   "outputs": [
    {
     "data": {
      "text/html": [
       "<div>\n",
       "<table border=\"1\" class=\"dataframe\">\n",
       "  <thead>\n",
       "    <tr style=\"text-align: right;\">\n",
       "      <th></th>\n",
       "      <th>firstname</th>\n",
       "      <th>id</th>\n",
       "      <th>lastname</th>\n",
       "    </tr>\n",
       "  </thead>\n",
       "  <tbody>\n",
       "    <tr>\n",
       "      <th>0</th>\n",
       "      <td>Ali</td>\n",
       "      <td>1931824</td>\n",
       "      <td>Hussain</td>\n",
       "    </tr>\n",
       "    <tr>\n",
       "      <th>1</th>\n",
       "      <td>Yibing</td>\n",
       "      <td>6389292</td>\n",
       "      <td>Wen</td>\n",
       "    </tr>\n",
       "    <tr>\n",
       "      <th>2</th>\n",
       "      <td>Sasha</td>\n",
       "      <td>6394270</td>\n",
       "      <td>Wloski</td>\n",
       "    </tr>\n",
       "    <tr>\n",
       "      <th>3</th>\n",
       "      <td>Arvind</td>\n",
       "      <td>6145638</td>\n",
       "      <td>Ramanathan</td>\n",
       "    </tr>\n",
       "    <tr>\n",
       "      <th>4</th>\n",
       "      <td>Mike</td>\n",
       "      <td>8586561</td>\n",
       "      <td>Sants</td>\n",
       "    </tr>\n",
       "    <tr>\n",
       "      <th>5</th>\n",
       "      <td>Steve</td>\n",
       "      <td>8671749</td>\n",
       "      <td>Sulpizio</td>\n",
       "    </tr>\n",
       "    <tr>\n",
       "      <th>6</th>\n",
       "      <td>Marc</td>\n",
       "      <td>8669256</td>\n",
       "      <td>Devlin</td>\n",
       "    </tr>\n",
       "    <tr>\n",
       "      <th>7</th>\n",
       "      <td>Patrick</td>\n",
       "      <td>8694694</td>\n",
       "      <td>Santeusanio</td>\n",
       "    </tr>\n",
       "    <tr>\n",
       "      <th>8</th>\n",
       "      <td>Avalon</td>\n",
       "      <td>8707893</td>\n",
       "      <td>Powell</td>\n",
       "    </tr>\n",
       "    <tr>\n",
       "      <th>9</th>\n",
       "      <td>Mario</td>\n",
       "      <td>8678667</td>\n",
       "      <td>Born</td>\n",
       "    </tr>\n",
       "    <tr>\n",
       "      <th>10</th>\n",
       "      <td>Mathieu</td>\n",
       "      <td>9041359</td>\n",
       "      <td>Gagné</td>\n",
       "    </tr>\n",
       "    <tr>\n",
       "      <th>11</th>\n",
       "      <td>Frank</td>\n",
       "      <td>9035765</td>\n",
       "      <td>Oduro</td>\n",
       "    </tr>\n",
       "    <tr>\n",
       "      <th>12</th>\n",
       "      <td>Eoin</td>\n",
       "      <td>9690910</td>\n",
       "      <td>Craigie</td>\n",
       "    </tr>\n",
       "    <tr>\n",
       "      <th>13</th>\n",
       "      <td>Rene</td>\n",
       "      <td>10252784</td>\n",
       "      <td>Duquesnoy</td>\n",
       "    </tr>\n",
       "    <tr>\n",
       "      <th>14</th>\n",
       "      <td>Laurie</td>\n",
       "      <td>11682046</td>\n",
       "      <td>McQueen</td>\n",
       "    </tr>\n",
       "    <tr>\n",
       "      <th>15</th>\n",
       "      <td>Vitor</td>\n",
       "      <td>14749152</td>\n",
       "      <td>Lima</td>\n",
       "    </tr>\n",
       "    <tr>\n",
       "      <th>16</th>\n",
       "      <td>Leila</td>\n",
       "      <td>15015386</td>\n",
       "      <td>H</td>\n",
       "    </tr>\n",
       "    <tr>\n",
       "      <th>17</th>\n",
       "      <td>Vincent</td>\n",
       "      <td>12032937</td>\n",
       "      <td>Trudel-Lapierre</td>\n",
       "    </tr>\n",
       "    <tr>\n",
       "      <th>18</th>\n",
       "      <td>gareth</td>\n",
       "      <td>90245</td>\n",
       "      <td>reeves</td>\n",
       "    </tr>\n",
       "    <tr>\n",
       "      <th>19</th>\n",
       "      <td>Henry</td>\n",
       "      <td>2021048</td>\n",
       "      <td>Jenkins</td>\n",
       "    </tr>\n",
       "  </tbody>\n",
       "</table>\n",
       "</div>"
      ],
      "text/plain": [
       "   firstname        id         lastname\n",
       "0        Ali   1931824          Hussain\n",
       "1     Yibing   6389292              Wen\n",
       "2      Sasha   6394270           Wloski\n",
       "3     Arvind   6145638       Ramanathan\n",
       "4       Mike   8586561            Sants\n",
       "5      Steve   8671749         Sulpizio\n",
       "6       Marc   8669256           Devlin\n",
       "7    Patrick   8694694      Santeusanio\n",
       "8     Avalon   8707893           Powell\n",
       "9      Mario   8678667             Born\n",
       "10   Mathieu   9041359            Gagné\n",
       "11     Frank   9035765            Oduro\n",
       "12      Eoin   9690910          Craigie\n",
       "13      Rene  10252784        Duquesnoy\n",
       "14    Laurie  11682046          McQueen\n",
       "15     Vitor  14749152             Lima\n",
       "16     Leila  15015386                H\n",
       "17   Vincent  12032937  Trudel-Lapierre\n",
       "18    gareth     90245           reeves\n",
       "19     Henry   2021048          Jenkins"
      ]
     },
     "execution_count": 10,
     "metadata": {},
     "output_type": "execute_result"
    }
   ],
   "source": [
    "friend_df"
   ]
  },
  {
   "cell_type": "code",
   "execution_count": 12,
   "metadata": {
    "collapsed": false
   },
   "outputs": [],
   "source": [
    "friend_df.to_csv('warlord_friends.csv', index=False, encoding='utf-8')"
   ]
  },
  {
   "cell_type": "code",
   "execution_count": null,
   "metadata": {
    "collapsed": true
   },
   "outputs": [],
   "source": []
  }
 ],
 "metadata": {
  "kernelspec": {
   "display_name": "Python 2",
   "language": "python",
   "name": "python2"
  },
  "language_info": {
   "codemirror_mode": {
    "name": "ipython",
    "version": 2
   },
   "file_extension": ".py",
   "mimetype": "text/x-python",
   "name": "python",
   "nbconvert_exporter": "python",
   "pygments_lexer": "ipython2",
   "version": "2.7.10"
  }
 },
 "nbformat": 4,
 "nbformat_minor": 0
}
