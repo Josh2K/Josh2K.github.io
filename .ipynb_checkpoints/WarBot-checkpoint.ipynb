{
 "cells": [
  {
   "cell_type": "code",
   "execution_count": 46,
   "metadata": {
    "collapsed": true
   },
   "outputs": [],
   "source": [
    "import pandas as pd\n",
    "import time\n",
    "#import datetime\n",
    "import requests"
   ]
  },
  {
   "cell_type": "code",
   "execution_count": 47,
   "metadata": {
    "collapsed": false
   },
   "outputs": [],
   "source": [
    "def hipchatbot(message):\n",
    "    AUTH_TOKEN = \"CXbcMq98SS38ebkUHz0hEAgnXP2b6uuF8GBx0IAE\"   #Warlords of MTL\n",
    "    HEADERS = { \"Content-Type\": \"application/json\" }\n",
    "    HIPCHAT_ROOM_ID = 331 # Warlords of MTL\n",
    "    HIPCHAT_URL = \"https://hipchat.drwholdings.com/v2/room/{}/notification\".format(HIPCHAT_ROOM_ID)\n",
    "    \n",
    "    data = '{\"color\": \"green\", \"message\": \"'+message+'\", \"notify\": false, \"message_format\": \"text\"}'\n",
    "    response = requests.post(HIPCHAT_URL+'?auth_token='+AUTH_TOKEN, data=data, headers=HEADERS)   "
   ]
  },
  {
   "cell_type": "code",
   "execution_count": 48,
   "metadata": {
    "collapsed": false
   },
   "outputs": [
    {
     "data": {
      "text/html": [
       "<div>\n",
       "<table border=\"1\" class=\"dataframe\">\n",
       "  <thead>\n",
       "    <tr style=\"text-align: right;\">\n",
       "      <th></th>\n",
       "      <th>Date</th>\n",
       "      <th>News</th>\n",
       "      <th>Status</th>\n",
       "    </tr>\n",
       "  </thead>\n",
       "  <tbody>\n",
       "    <tr>\n",
       "      <th>0</th>\n",
       "      <td>2016-06-04 20:54:07.597000</td>\n",
       "      <td>Vincent Trudel-Lapierre claimed 1 unowned terr...</td>\n",
       "      <td>NO</td>\n",
       "    </tr>\n",
       "    <tr>\n",
       "      <th>1</th>\n",
       "      <td>2016-06-06 10:29:55.789000</td>\n",
       "      <td>Leila H claimed 7 unowned territories</td>\n",
       "      <td>NO</td>\n",
       "    </tr>\n",
       "    <tr>\n",
       "      <th>2</th>\n",
       "      <td>2016-06-06 10:29:55.789000</td>\n",
       "      <td>Leila H conquered 2 territories from Yibing Wen</td>\n",
       "      <td>NO</td>\n",
       "    </tr>\n",
       "    <tr>\n",
       "      <th>3</th>\n",
       "      <td>2016-06-06 10:29:55.789000</td>\n",
       "      <td>Yibing Wen claimed 1 unowned territory</td>\n",
       "      <td>NO</td>\n",
       "    </tr>\n",
       "    <tr>\n",
       "      <th>4</th>\n",
       "      <td>2016-06-06 10:29:55.789000</td>\n",
       "      <td>Vitor Lima claimed 20 unowned territories</td>\n",
       "      <td>NO</td>\n",
       "    </tr>\n",
       "    <tr>\n",
       "      <th>5</th>\n",
       "      <td>2016-06-06 10:29:55.789000</td>\n",
       "      <td>Vitor Lima conquered 3 territories from Yibing...</td>\n",
       "      <td>NO</td>\n",
       "    </tr>\n",
       "    <tr>\n",
       "      <th>6</th>\n",
       "      <td>2016-06-06 10:29:55.789000</td>\n",
       "      <td>Vitor Lima conquered 1 territory from Vincent ...</td>\n",
       "      <td>NO</td>\n",
       "    </tr>\n",
       "  </tbody>\n",
       "</table>\n",
       "</div>"
      ],
      "text/plain": [
       "                         Date  \\\n",
       "0  2016-06-04 20:54:07.597000   \n",
       "1  2016-06-06 10:29:55.789000   \n",
       "2  2016-06-06 10:29:55.789000   \n",
       "3  2016-06-06 10:29:55.789000   \n",
       "4  2016-06-06 10:29:55.789000   \n",
       "5  2016-06-06 10:29:55.789000   \n",
       "6  2016-06-06 10:29:55.789000   \n",
       "\n",
       "                                                News Status  \n",
       "0  Vincent Trudel-Lapierre claimed 1 unowned terr...     NO  \n",
       "1              Leila H claimed 7 unowned territories     NO  \n",
       "2    Leila H conquered 2 territories from Yibing Wen     NO  \n",
       "3             Yibing Wen claimed 1 unowned territory     NO  \n",
       "4          Vitor Lima claimed 20 unowned territories     NO  \n",
       "5  Vitor Lima conquered 3 territories from Yibing...     NO  \n",
       "6  Vitor Lima conquered 1 territory from Vincent ...     NO  "
      ]
     },
     "execution_count": 48,
     "metadata": {},
     "output_type": "execute_result"
    }
   ],
   "source": [
    "df = pd.read_csv('warlog.csv')\n",
    "df"
   ]
  },
  {
   "cell_type": "code",
   "execution_count": 49,
   "metadata": {
    "collapsed": false
   },
   "outputs": [
    {
     "data": {
      "text/html": [
       "<div>\n",
       "<table border=\"1\" class=\"dataframe\">\n",
       "  <thead>\n",
       "    <tr style=\"text-align: right;\">\n",
       "      <th></th>\n",
       "      <th>Date</th>\n",
       "      <th>News</th>\n",
       "      <th>Status</th>\n",
       "    </tr>\n",
       "  </thead>\n",
       "  <tbody>\n",
       "    <tr>\n",
       "      <th>0</th>\n",
       "      <td>2016-06-04 20:54:07.597000</td>\n",
       "      <td>Vincent Trudel-Lapierre claimed 1 unowned terr...</td>\n",
       "      <td>NO</td>\n",
       "    </tr>\n",
       "    <tr>\n",
       "      <th>1</th>\n",
       "      <td>2016-06-06 10:29:55.789000</td>\n",
       "      <td>Leila H claimed 7 unowned territories</td>\n",
       "      <td>NO</td>\n",
       "    </tr>\n",
       "    <tr>\n",
       "      <th>2</th>\n",
       "      <td>2016-06-06 10:29:55.789000</td>\n",
       "      <td>Leila H conquered 2 territories from Yibing Wen</td>\n",
       "      <td>NO</td>\n",
       "    </tr>\n",
       "    <tr>\n",
       "      <th>3</th>\n",
       "      <td>2016-06-06 10:29:55.789000</td>\n",
       "      <td>Yibing Wen claimed 1 unowned territory</td>\n",
       "      <td>NO</td>\n",
       "    </tr>\n",
       "    <tr>\n",
       "      <th>4</th>\n",
       "      <td>2016-06-06 10:29:55.789000</td>\n",
       "      <td>Vitor Lima claimed 20 unowned territories</td>\n",
       "      <td>NO</td>\n",
       "    </tr>\n",
       "    <tr>\n",
       "      <th>5</th>\n",
       "      <td>2016-06-06 10:29:55.789000</td>\n",
       "      <td>Vitor Lima conquered 3 territories from Yibing...</td>\n",
       "      <td>NO</td>\n",
       "    </tr>\n",
       "    <tr>\n",
       "      <th>6</th>\n",
       "      <td>2016-06-06 10:29:55.789000</td>\n",
       "      <td>Vitor Lima conquered 1 territory from Vincent ...</td>\n",
       "      <td>NO</td>\n",
       "    </tr>\n",
       "  </tbody>\n",
       "</table>\n",
       "</div>"
      ],
      "text/plain": [
       "                         Date  \\\n",
       "0  2016-06-04 20:54:07.597000   \n",
       "1  2016-06-06 10:29:55.789000   \n",
       "2  2016-06-06 10:29:55.789000   \n",
       "3  2016-06-06 10:29:55.789000   \n",
       "4  2016-06-06 10:29:55.789000   \n",
       "5  2016-06-06 10:29:55.789000   \n",
       "6  2016-06-06 10:29:55.789000   \n",
       "\n",
       "                                                News Status  \n",
       "0  Vincent Trudel-Lapierre claimed 1 unowned terr...     NO  \n",
       "1              Leila H claimed 7 unowned territories     NO  \n",
       "2    Leila H conquered 2 territories from Yibing Wen     NO  \n",
       "3             Yibing Wen claimed 1 unowned territory     NO  \n",
       "4          Vitor Lima claimed 20 unowned territories     NO  \n",
       "5  Vitor Lima conquered 3 territories from Yibing...     NO  \n",
       "6  Vitor Lima conquered 1 territory from Vincent ...     NO  "
      ]
     },
     "execution_count": 49,
     "metadata": {},
     "output_type": "execute_result"
    }
   ],
   "source": [
    "df_unreported = df[df.Status == 'NO']\n",
    "df_unreported"
   ]
  },
  {
   "cell_type": "code",
   "execution_count": 50,
   "metadata": {
    "collapsed": false
   },
   "outputs": [],
   "source": [
    "for index,row in df_unreported.iterrows():\n",
    "    message = row.News\n",
    "    hipchatbot(message)\n",
    "    df['Status'][df.index == index] = 'YES'\n",
    "    time.sleep(1)\n",
    "df.to_csv('warlog.csv', index=False)"
   ]
  },
  {
   "cell_type": "code",
   "execution_count": null,
   "metadata": {
    "collapsed": true
   },
   "outputs": [],
   "source": []
  }
 ],
 "metadata": {
  "kernelspec": {
   "display_name": "Python 2",
   "language": "python",
   "name": "python2"
  },
  "language_info": {
   "codemirror_mode": {
    "name": "ipython",
    "version": 2
   },
   "file_extension": ".py",
   "mimetype": "text/x-python",
   "name": "python",
   "nbconvert_exporter": "python",
   "pygments_lexer": "ipython2",
   "version": "2.7.11"
  }
 },
 "nbformat": 4,
 "nbformat_minor": 0
}
