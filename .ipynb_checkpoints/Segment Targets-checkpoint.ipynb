{
 "cells": [
  {
   "cell_type": "code",
   "execution_count": 23,
   "metadata": {
    "collapsed": true
   },
   "outputs": [],
   "source": [
    "from stravalib.client import Client\n",
    "import pandas as pd\n",
    "from geopy.distance import vincenty\n",
    "from retrying import retry\n",
    "import time\n",
    "import numpy as np\n",
    "from tqdm import tqdm\n",
    "\n",
    "client = Client(access_token='76824abf6abf903eb3d8b0bde83625135c0be0ec')\n",
    "athlete = client.get_athlete()"
   ]
  },
  {
   "cell_type": "code",
   "execution_count": 24,
   "metadata": {
    "collapsed": true
   },
   "outputs": [],
   "source": [
    "@retry(wait_exponential_multiplier=1000, wait_exponential_max=10000, stop_max_delay=30000)\n",
    "def retry_get_leaderboard(client,segment):\n",
    "    total = client.get_segment_leaderboard(segment)\n",
    "    friends = client.get_segment_leaderboard(segment,following=True)\n",
    "    c = (total,friends)\n",
    "    return c\n",
    "\n",
    "@retry(wait_exponential_multiplier=1000, wait_exponential_max=10000, stop_max_delay=30000)\n",
    "def retry_get_segment(client,segment):\n",
    "    return client.get_segment(segment)"
   ]
  },
  {
   "cell_type": "code",
   "execution_count": 40,
   "metadata": {
    "collapsed": false,
    "scrolled": false
   },
   "outputs": [
    {
     "name": "stderr",
     "output_type": "stream",
     "text": [
      " 25%|███████████                                 | 1/4 [00:05<00:15,  0.19it/s]"
     ]
    },
    {
     "name": "stdout",
     "output_type": "stream",
     "text": [
      "0:03:45\n",
      "10\n",
      "0:00:22.500000\n"
     ]
    },
    {
     "name": "stderr",
     "output_type": "stream",
     "text": [
      "\r",
      " 50%|██████████████████████                      | 2/4 [00:10<00:10,  0.19it/s]"
     ]
    },
    {
     "name": "stdout",
     "output_type": "stream",
     "text": [
      "0:03:55\n",
      "10\n",
      "0:00:23.500000\n"
     ]
    },
    {
     "name": "stderr",
     "output_type": "stream",
     "text": [
      "\r",
      " 75%|█████████████████████████████████           | 3/4 [00:15<00:05,  0.19it/s]"
     ]
    },
    {
     "name": "stdout",
     "output_type": "stream",
     "text": [
      "0:08:34\n",
      "10\n",
      "0:00:51.400000\n"
     ]
    },
    {
     "name": "stderr",
     "output_type": "stream",
     "text": [
      "                                                                               "
     ]
    },
    {
     "name": "stdout",
     "output_type": "stream",
     "text": [
      "0:09:44\n",
      "10\n",
      "0:00:58.400000\n"
     ]
    },
    {
     "name": "stderr",
     "output_type": "stream",
     "text": [
      "\r"
     ]
    }
   ],
   "source": [
    "df = pd.read_csv('segoutput.csv',index_col=False)\n",
    "\n",
    "home = (45.487803,-73.576913)\n",
    "df['coordinates'] = zip(df['latitude'], df['longitude'])\n",
    "\n",
    "biglist = df.T.to_dict().values()\n",
    "for row in biglist:\n",
    "    row['distance_from_home'] = vincenty(row['coordinates'], home).km\n",
    "\n",
    "new_df = pd.DataFrame(biglist)\n",
    "new_df = new_df[new_df['distance_from_home'] <= 2].sort_values(['distance_from_home'], ascending=[True])\n",
    "\n",
    "smalllist = new_df.T.to_dict().values()\n",
    "\n",
    "for row in tqdm(smalllist[:4]):\n",
    "    \n",
    "    time.sleep(5)\n",
    "        \n",
    "    row['segment_distance'] = float(retry_get_segment(client,row[\"segment_id\"]).distance)\n",
    "    \n",
    "    both_leaderboards = retry_get_leaderboard(client,row[\"segment_id\"]) \n",
    "    row['total_top_time'] = both_leaderboards[0][0].elapsed_time\n",
    "    \n",
    "    times = both_leaderboards[0][0].elapsed_time\n",
    "    for x in both_leaderboards[0][1:]:\n",
    "        times += x.elapsed_time\n",
    "    print times\n",
    "    print len(both_leaderboards[0])\n",
    "    print times / len(both_leaderboards[0])\n",
    "    times = times / len(both_leaderboards[0])\n",
    "    row['average_total_top_time'] = times\n",
    "    \n",
    "    \n",
    "    if not both_leaderboards[1]:\n",
    "        row['friend_top_time'] = np.nan        \n",
    "    else:\n",
    "        row['friend_top_time'] = both_leaderboards[1][0].elapsed_time\n",
    "        \n",
    "final_df = pd.DataFrame(smalllist[:4])"
   ]
  },
  {
   "cell_type": "code",
   "execution_count": 36,
   "metadata": {
    "collapsed": false
   },
   "outputs": [
    {
     "data": {
      "text/html": [
       "<div>\n",
       "<table border=\"1\" class=\"dataframe\">\n",
       "  <thead>\n",
       "    <tr style=\"text-align: right;\">\n",
       "      <th></th>\n",
       "      <th>average_total_top_time</th>\n",
       "      <th>color</th>\n",
       "      <th>coordinates</th>\n",
       "      <th>distance_from_home</th>\n",
       "      <th>friend_top_time</th>\n",
       "      <th>id</th>\n",
       "      <th>latitude</th>\n",
       "      <th>longitude</th>\n",
       "      <th>name</th>\n",
       "      <th>segment_distance</th>\n",
       "      <th>segment_id</th>\n",
       "      <th>segment_name</th>\n",
       "      <th>total_top_time</th>\n",
       "      <th>type</th>\n",
       "      <th>url</th>\n",
       "    </tr>\n",
       "  </thead>\n",
       "  <tbody>\n",
       "    <tr>\n",
       "      <th>0</th>\n",
       "      <td>&lt;module 'time' (built-in)&gt;</td>\n",
       "      <td>FFEE33</td>\n",
       "      <td>(45.502192, -73.577163)</td>\n",
       "      <td>1.599334</td>\n",
       "      <td>00:00:58</td>\n",
       "      <td>1537</td>\n",
       "      <td>45.502192</td>\n",
       "      <td>-73.577163</td>\n",
       "      <td>Peel Push - Sherbrooke to Docteur Penfield :  ...</td>\n",
       "      <td>204.300</td>\n",
       "      <td>7849363</td>\n",
       "      <td>Peel Push - Sherbrooke to Docteur Penfield</td>\n",
       "      <td>00:00:19</td>\n",
       "      <td>Sasha Wloski</td>\n",
       "      <td>http://www.strava.com/segments/7849363/compare/</td>\n",
       "    </tr>\n",
       "    <tr>\n",
       "      <th>1</th>\n",
       "      <td>&lt;module 'time' (built-in)&gt;</td>\n",
       "      <td>A03D3D</td>\n",
       "      <td>(45.5021951906, -73.5629598051)</td>\n",
       "      <td>1.936012</td>\n",
       "      <td>00:01:14</td>\n",
       "      <td>1538</td>\n",
       "      <td>45.502195</td>\n",
       "      <td>-73.562960</td>\n",
       "      <td>Beaver Hall:  [Laurie McQueen]</td>\n",
       "      <td>237.550</td>\n",
       "      <td>1176830</td>\n",
       "      <td>Beaver Hall</td>\n",
       "      <td>00:00:20</td>\n",
       "      <td>Laurie McQueen</td>\n",
       "      <td>http://www.strava.com/segments/1176830/compare/</td>\n",
       "    </tr>\n",
       "    <tr>\n",
       "      <th>2</th>\n",
       "      <td>&lt;module 'time' (built-in)&gt;</td>\n",
       "      <td>FFEE33</td>\n",
       "      <td>(45.4916093499, -73.5882798583)</td>\n",
       "      <td>0.984138</td>\n",
       "      <td>00:01:25</td>\n",
       "      <td>1539</td>\n",
       "      <td>45.491609</td>\n",
       "      <td>-73.588280</td>\n",
       "      <td>Atwater/Saint Sulpice Short Safe:  [Sasha Wloski]</td>\n",
       "      <td>411.851</td>\n",
       "      <td>1840013</td>\n",
       "      <td>Atwater/Saint Sulpice Short Safe</td>\n",
       "      <td>00:00:40</td>\n",
       "      <td>Sasha Wloski</td>\n",
       "      <td>http://www.strava.com/segments/1840013/compare/</td>\n",
       "    </tr>\n",
       "    <tr>\n",
       "      <th>3</th>\n",
       "      <td>&lt;module 'time' (built-in)&gt;</td>\n",
       "      <td>9CD0EF</td>\n",
       "      <td>(45.49695, -73.586141)</td>\n",
       "      <td>1.246526</td>\n",
       "      <td>00:01:15</td>\n",
       "      <td>1540</td>\n",
       "      <td>45.496950</td>\n",
       "      <td>-73.586141</td>\n",
       "      <td>DrPenfield:  [Eoin Craigie]</td>\n",
       "      <td>836.300</td>\n",
       "      <td>7381906</td>\n",
       "      <td>DrPenfield</td>\n",
       "      <td>00:00:53</td>\n",
       "      <td>Eoin Craigie</td>\n",
       "      <td>http://www.strava.com/segments/7381906/compare/</td>\n",
       "    </tr>\n",
       "    <tr>\n",
       "      <th>4</th>\n",
       "      <td>&lt;module 'time' (built-in)&gt;</td>\n",
       "      <td>FFEE33</td>\n",
       "      <td>(45.4852914065, -73.5987708997)</td>\n",
       "      <td>1.731428</td>\n",
       "      <td>00:00:26</td>\n",
       "      <td>854</td>\n",
       "      <td>45.485291</td>\n",
       "      <td>-73.598771</td>\n",
       "      <td>Av Church Hill:  [Sasha Wloski]</td>\n",
       "      <td>176.390</td>\n",
       "      <td>2477484</td>\n",
       "      <td>Av Church Hill</td>\n",
       "      <td>00:00:19</td>\n",
       "      <td>Sasha Wloski</td>\n",
       "      <td>http://www.strava.com/segments/2477484/compare/</td>\n",
       "    </tr>\n",
       "  </tbody>\n",
       "</table>\n",
       "</div>"
      ],
      "text/plain": [
       "       average_total_top_time   color                      coordinates  \\\n",
       "0  <module 'time' (built-in)>  FFEE33          (45.502192, -73.577163)   \n",
       "1  <module 'time' (built-in)>  A03D3D  (45.5021951906, -73.5629598051)   \n",
       "2  <module 'time' (built-in)>  FFEE33  (45.4916093499, -73.5882798583)   \n",
       "3  <module 'time' (built-in)>  9CD0EF           (45.49695, -73.586141)   \n",
       "4  <module 'time' (built-in)>  FFEE33  (45.4852914065, -73.5987708997)   \n",
       "\n",
       "   distance_from_home  friend_top_time    id   latitude  longitude  \\\n",
       "0            1.599334         00:00:58  1537  45.502192 -73.577163   \n",
       "1            1.936012         00:01:14  1538  45.502195 -73.562960   \n",
       "2            0.984138         00:01:25  1539  45.491609 -73.588280   \n",
       "3            1.246526         00:01:15  1540  45.496950 -73.586141   \n",
       "4            1.731428         00:00:26   854  45.485291 -73.598771   \n",
       "\n",
       "                                                name  segment_distance  \\\n",
       "0  Peel Push - Sherbrooke to Docteur Penfield :  ...           204.300   \n",
       "1                     Beaver Hall:  [Laurie McQueen]           237.550   \n",
       "2  Atwater/Saint Sulpice Short Safe:  [Sasha Wloski]           411.851   \n",
       "3                        DrPenfield:  [Eoin Craigie]           836.300   \n",
       "4                    Av Church Hill:  [Sasha Wloski]           176.390   \n",
       "\n",
       "   segment_id                                 segment_name  total_top_time  \\\n",
       "0     7849363  Peel Push - Sherbrooke to Docteur Penfield         00:00:19   \n",
       "1     1176830                                  Beaver Hall        00:00:20   \n",
       "2     1840013             Atwater/Saint Sulpice Short Safe        00:00:40   \n",
       "3     7381906                                   DrPenfield        00:00:53   \n",
       "4     2477484                               Av Church Hill        00:00:19   \n",
       "\n",
       "             type                                              url  \n",
       "0    Sasha Wloski  http://www.strava.com/segments/7849363/compare/  \n",
       "1  Laurie McQueen  http://www.strava.com/segments/1176830/compare/  \n",
       "2    Sasha Wloski  http://www.strava.com/segments/1840013/compare/  \n",
       "3    Eoin Craigie  http://www.strava.com/segments/7381906/compare/  \n",
       "4    Sasha Wloski  http://www.strava.com/segments/2477484/compare/  "
      ]
     },
     "execution_count": 36,
     "metadata": {},
     "output_type": "execute_result"
    }
   ],
   "source": [
    "final_df"
   ]
  },
  {
   "cell_type": "code",
   "execution_count": 30,
   "metadata": {
    "collapsed": false
   },
   "outputs": [],
   "source": [
    "final_df['friend_excess_time_%'] = (final_df['friend_top_time'] - final_df['total_top_time'])/final_df['total_top_time']*100"
   ]
  },
  {
   "cell_type": "code",
   "execution_count": null,
   "metadata": {
    "collapsed": true
   },
   "outputs": [],
   "source": [
    "final_df"
   ]
  }
 ],
 "metadata": {
  "kernelspec": {
   "display_name": "Python 2",
   "language": "python",
   "name": "python2"
  },
  "language_info": {
   "codemirror_mode": {
    "name": "ipython",
    "version": 2
   },
   "file_extension": ".py",
   "mimetype": "text/x-python",
   "name": "python",
   "nbconvert_exporter": "python",
   "pygments_lexer": "ipython2",
   "version": "2.7.10"
  }
 },
 "nbformat": 4,
 "nbformat_minor": 0
}
