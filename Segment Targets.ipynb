{
 "cells": [
  {
   "cell_type": "markdown",
   "metadata": {},
   "source": [
    "Eoin - 9690910"
   ]
  },
  {
   "cell_type": "code",
   "execution_count": 9,
   "metadata": {
    "collapsed": false
   },
   "outputs": [
    {
     "name": "stdout",
     "output_type": "stream",
     "text": [
      "{'name': 'Boul. Pincourt hill:  [UNCLAIMED]', 'segment_id': 3655223L, 'color': '000000', 'longitude': -73.9701257553, 'url': 'http://www.strava.com/segments/3655223/compare/', 'coordinates': (45.385229838999997, -73.970125755300003), 'segment_name': 'Boul. Pincourt hill', 'latitude': 45.385229839, 'type': 'UNCLAIMED', 'id': 0L}\n",
      "{'name': 'Peel Push - Sherbrooke to Docteur Penfield :  [Sasha Wloski]', 'segment_id': 7849363L, 'color': 'FFEE33', 'longitude': -73.577163, 'url': 'http://www.strava.com/segments/7849363/compare/', 'distance_from_home': 1.5993337235450853, 'coordinates': (45.502192000000001, -73.577162999999999), 'segment_name': 'Peel Push - Sherbrooke to Docteur Penfield ', 'latitude': 45.502192, 'type': 'Sasha Wloski', 'id': 1537L}\n",
      "{'name': 'Beaver Hall:  [Laurie McQueen]', 'segment_id': 1176830L, 'color': 'A03D3D', 'longitude': -73.56295980510001, 'url': 'http://www.strava.com/segments/1176830/compare/', 'distance_from_home': 1.936011593268371, 'coordinates': (45.502195190600006, -73.562959805100007), 'segment_name': 'Beaver Hall', 'latitude': 45.502195190600006, 'type': 'Laurie McQueen', 'id': 1538L}\n",
      "{'name': 'Atwater/Saint Sulpice Short Safe:  [Sasha Wloski]', 'segment_id': 1840013L, 'color': 'FFEE33', 'longitude': -73.5882798583, 'url': 'http://www.strava.com/segments/1840013/compare/', 'distance_from_home': 0.9841382670680124, 'coordinates': (45.491609349899996, -73.588279858299998), 'segment_name': 'Atwater/Saint Sulpice Short Safe', 'latitude': 45.491609349899996, 'type': 'Sasha Wloski', 'id': 1539L}\n",
      "{'name': 'DrPenfield:  [Eoin Craigie]', 'segment_id': 7381906L, 'color': '9CD0EF', 'longitude': -73.586141, 'url': 'http://www.strava.com/segments/7381906/compare/', 'distance_from_home': 1.246526360790703, 'coordinates': (45.496949999999998, -73.586140999999998), 'segment_name': 'DrPenfield', 'latitude': 45.49695, 'type': 'Eoin Craigie', 'id': 1540L}\n",
      "{'name': 'Av Church Hill:  [Sasha Wloski]', 'segment_id': 2477484L, 'color': 'FFEE33', 'longitude': -73.5987708997, 'url': 'http://www.strava.com/segments/2477484/compare/', 'distance_from_home': 1.731427729656742, 'coordinates': (45.485291406499996, -73.5987708997), 'segment_name': 'Av Church Hill', 'latitude': 45.4852914065, 'type': 'Sasha Wloski', 'id': 854L}\n",
      "{'name': 'Maisonneuve - Drummond/University:  [Sasha Wloski]', 'segment_id': 1919327L, 'color': 'FFEE33', 'longitude': -73.5760966161, 'url': 'http://www.strava.com/segments/1919327/compare/', 'distance_from_home': 1.307502887325702, 'coordinates': (45.499553296499997, -73.576096616100003), 'segment_name': 'Maisonneuve - Drummond/University', 'latitude': 45.4995532965, 'type': 'Sasha Wloski', 'id': 1554L}\n",
      "{'name': 'Mont\\xc3\\xa9e Aylmer (courte):  [Laurie McQueen]', 'segment_id': 8435226L, 'color': 'A03D3D', 'longitude': -73.570691, 'url': 'http://www.strava.com/segments/8435226/compare/', 'distance_from_home': 1.9947223764077928, 'coordinates': (45.505209000000001, -73.570690999999997), 'segment_name': 'Mont\\xc3\\xa9e Aylmer (courte)', 'latitude': 45.505209, 'type': 'Laurie McQueen', 'id': 1580L}\n"
     ]
    }
   ],
   "source": [
    "from stravalib.client import Client\n",
    "import pandas as pd\n",
    "from geopy.distance import vincenty\n",
    "from retrying import retry\n",
    "import time\n",
    "\n",
    "df = pd.read_csv('segoutput.csv',index_col=False)\n",
    "\n",
    "home = (45.487803,-73.576913)\n",
    "df['coordinates'] = zip(df['latitude'], df['longitude'])\n",
    "biglist = df.T.to_dict().values()\n",
    "first = biglist[0]\n",
    "print first\n",
    "for row in biglist:\n",
    "    row['distance_from_home'] = vincenty(row['coordinates'], home).km\n",
    "\n",
    "new_df = pd.DataFrame(biglist)\n",
    "new_df = new_df[new_df['distance_from_home'] <= 2].sort_values(['distance_from_home'], ascending=[True])\n",
    "new_df\n",
    "\n",
    "smalllist = new_df.T.to_dict().values()\n",
    "\n",
    "for row in smalllist[:7]:\n",
    "    print row\n",
    "    "
   ]
  },
  {
   "cell_type": "code",
   "execution_count": null,
   "metadata": {
    "collapsed": true
   },
   "outputs": [],
   "source": [
    "# next add columns for total distance of the segment, my time, friend leader time, KOM time"
   ]
  },
  {
   "cell_type": "code",
   "execution_count": 15,
   "metadata": {
    "collapsed": false
   },
   "outputs": [
    {
     "name": "stdout",
     "output_type": "stream",
     "text": [
      "Hello, Josh. I know your email is felkerjosh@gmail.com\n",
      "7849363\n",
      "0:00:58\n"
     ]
    }
   ],
   "source": [
    "#@retry(wait_exponential_multiplier=1000, wait_exponential_max=10000, stop_max_delay=30000)\n",
    "def retry_get_leaderboard(client,segment,friends):\n",
    "    return client.get_segment_leaderboard(segment,following=friends)\n",
    "\n",
    "\n",
    "client = Client(access_token='76824abf6abf903eb3d8b0bde83625135c0be0ec')\n",
    "athlete = client.get_athlete()\n",
    "print(\"Hello, {}. I know your email is {}\".format(athlete.firstname, athlete.email))\n",
    "josh_friends = client.get_athlete_friends(5991862)\n",
    "\n",
    "for row in smalllist[:1]:\n",
    "    time.sleep(3)\n",
    "    friends = True\n",
    "    print row[\"segment_id\"]\n",
    "    \n",
    "    #try:\n",
    "    leaderboard = retry_get_leaderboard(client,row[\"segment_id\"],friends)\n",
    "    if not leaderboard:\n",
    "        print 'nope'\n",
    "    else:\n",
    "        print leaderboard[0].elapsed_time\n",
    "        #topguy = leaderboard[0].athlete_name\n",
    "\n",
    "    #except Exception:   \n",
    "    #    print 'problem!!'\n",
    "    #    pass\n",
    "\n"
   ]
  },
  {
   "cell_type": "code",
   "execution_count": null,
   "metadata": {
    "collapsed": true
   },
   "outputs": [],
   "source": []
  }
 ],
 "metadata": {
  "kernelspec": {
   "display_name": "Python 2",
   "language": "python",
   "name": "python2"
  },
  "language_info": {
   "codemirror_mode": {
    "name": "ipython",
    "version": 2
   },
   "file_extension": ".py",
   "mimetype": "text/x-python",
   "name": "python",
   "nbconvert_exporter": "python",
   "pygments_lexer": "ipython2",
   "version": "2.7.10"
  }
 },
 "nbformat": 4,
 "nbformat_minor": 0
}
