{
 "cells": [
  {
   "cell_type": "code",
   "execution_count": 21,
   "metadata": {
    "collapsed": true
   },
   "outputs": [],
   "source": [
    "import pandas as pd\n",
    "#import time\n",
    "#import datetime\n",
    "import requests\n"
   ]
  },
  {
   "cell_type": "code",
   "execution_count": 24,
   "metadata": {
    "collapsed": false
   },
   "outputs": [],
   "source": [
    "def hipchatbot(message):\n",
    "    AUTH_TOKEN = \"BwWYukw82iIo3VJhUTdXWZC2YwajOAxYgAaTvBOA\" \n",
    "    HEADERS = { \"Content-Type\": \"application/json\" }\n",
    "    HIPCHAT_ROOM_ID = 299 # JoshBots\n",
    "    HIPCHAT_URL = \"https://hipchat.drwholdings.com/v2/room/{}/notification\".format(HIPCHAT_ROOM_ID)\n",
    "    \n",
    "    data = '{\"color\": \"green\", \"message\": \"'+message+'\", \"notify\": false, \"message_format\": \"text\"}'\n",
    "    response = requests.post(HIPCHAT_URL+'?auth_token='+AUTH_TOKEN, data=data, headers=HEADERS)   "
   ]
  },
  {
   "cell_type": "code",
   "execution_count": 11,
   "metadata": {
    "collapsed": false
   },
   "outputs": [
    {
     "data": {
      "text/html": [
       "<div>\n",
       "<table border=\"1\" class=\"dataframe\">\n",
       "  <thead>\n",
       "    <tr style=\"text-align: right;\">\n",
       "      <th></th>\n",
       "      <th>Date</th>\n",
       "      <th>News</th>\n",
       "      <th>Status</th>\n",
       "    </tr>\n",
       "  </thead>\n",
       "  <tbody>\n",
       "    <tr>\n",
       "      <th>0</th>\n",
       "      <td>2016-06-04 20:54:07.597000</td>\n",
       "      <td>Vincent Trudel-Lapierre claimed 99 unowned ter...</td>\n",
       "      <td>YES</td>\n",
       "    </tr>\n",
       "    <tr>\n",
       "      <th>1</th>\n",
       "      <td>2016-06-04 20:54:07.597000</td>\n",
       "      <td>Vincent Trudel-Lapierre claimed 1 unowned terr...</td>\n",
       "      <td>NO</td>\n",
       "    </tr>\n",
       "  </tbody>\n",
       "</table>\n",
       "</div>"
      ],
      "text/plain": [
       "                         Date  \\\n",
       "0  2016-06-04 20:54:07.597000   \n",
       "1  2016-06-04 20:54:07.597000   \n",
       "\n",
       "                                                News Status  \n",
       "0  Vincent Trudel-Lapierre claimed 99 unowned ter...    YES  \n",
       "1  Vincent Trudel-Lapierre claimed 1 unowned terr...     NO  "
      ]
     },
     "execution_count": 11,
     "metadata": {},
     "output_type": "execute_result"
    }
   ],
   "source": [
    "df = pd.read_csv('warlog.csv')\n",
    "df"
   ]
  },
  {
   "cell_type": "code",
   "execution_count": 12,
   "metadata": {
    "collapsed": false
   },
   "outputs": [
    {
     "data": {
      "text/html": [
       "<div>\n",
       "<table border=\"1\" class=\"dataframe\">\n",
       "  <thead>\n",
       "    <tr style=\"text-align: right;\">\n",
       "      <th></th>\n",
       "      <th>Date</th>\n",
       "      <th>News</th>\n",
       "      <th>Status</th>\n",
       "    </tr>\n",
       "  </thead>\n",
       "  <tbody>\n",
       "    <tr>\n",
       "      <th>1</th>\n",
       "      <td>2016-06-04 20:54:07.597000</td>\n",
       "      <td>Vincent Trudel-Lapierre claimed 1 unowned terr...</td>\n",
       "      <td>NO</td>\n",
       "    </tr>\n",
       "  </tbody>\n",
       "</table>\n",
       "</div>"
      ],
      "text/plain": [
       "                         Date  \\\n",
       "1  2016-06-04 20:54:07.597000   \n",
       "\n",
       "                                                News Status  \n",
       "1  Vincent Trudel-Lapierre claimed 1 unowned terr...     NO  "
      ]
     },
     "execution_count": 12,
     "metadata": {},
     "output_type": "execute_result"
    }
   ],
   "source": [
    "df_unreported = df[df.Status == 'NO']\n",
    "df_unreported"
   ]
  },
  {
   "cell_type": "code",
   "execution_count": 26,
   "metadata": {
    "collapsed": false
   },
   "outputs": [
    {
     "name": "stdout",
     "output_type": "stream",
     "text": [
      "Vincent Trudel-Lapierre claimed 1 unowned territory\n"
     ]
    }
   ],
   "source": [
    "for index,row in df_unreported.iterrows():\n",
    "    message = row.News\n",
    "    print message\n",
    "    df\n",
    "    "
   ]
  },
  {
   "cell_type": "code",
   "execution_count": 25,
   "metadata": {
    "collapsed": false
   },
   "outputs": [],
   "source": [
    "message = 'hello test'\n",
    "hipchatbot(message)"
   ]
  },
  {
   "cell_type": "code",
   "execution_count": null,
   "metadata": {
    "collapsed": true
   },
   "outputs": [],
   "source": []
  }
 ],
 "metadata": {
  "kernelspec": {
   "display_name": "Python 2",
   "language": "python",
   "name": "python2"
  },
  "language_info": {
   "codemirror_mode": {
    "name": "ipython",
    "version": 2
   },
   "file_extension": ".py",
   "mimetype": "text/x-python",
   "name": "python",
   "nbconvert_exporter": "python",
   "pygments_lexer": "ipython2",
   "version": "2.7.11"
  }
 },
 "nbformat": 4,
 "nbformat_minor": 0
}
